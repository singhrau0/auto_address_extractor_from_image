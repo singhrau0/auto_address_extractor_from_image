{
 "cells": [
  {
   "cell_type": "code",
   "execution_count": 1,
   "id": "ba940a4d",
   "metadata": {},
   "outputs": [],
   "source": [
    "import os, io\n",
    "from google.cloud import vision_v1\n",
    "from google.cloud.vision_v1 import types\n",
    "import pandas as pd\n",
    "\n",
    "\n",
    "os.environ['GOOGLE_APPLICATION_CREDENTIALS'] = r'C:\\Users\\Aman\\PycharmProjects\\google_vision_ocr\\google_service_token.json'\n",
    "\n",
    "client =  vision_v1.ImageAnnotatorClient()\n",
    "\n",
    "file_name = 'demo6.jpeg'\n",
    "folder_path = r'C:\\Users\\Aman\\Downloads\\Documents\\New folder'\n",
    "\n",
    "with io.open(os.path.join(folder_path,file_name),'rb') as image_file:\n",
    "    content = image_file.read()\n",
    "image = vision_v1.types.Image(content=content)\n",
    "\n",
    "response = client.text_detection(image = image)\n",
    "\n",
    "df = pd.DataFrame(columns=['locale','description'])\n",
    "\n",
    "\n",
    "texts = response.text_annotations\n",
    "for text in texts:\n",
    "    df = df.append(\n",
    "        dict(\n",
    "            locale=text.locale,\n",
    "            description=text.description\n",
    "        ),\n",
    "        ignore_index = True\n",
    "    )\n"
   ]
  },
  {
   "cell_type": "code",
   "execution_count": 51,
   "id": "64357a2b",
   "metadata": {},
   "outputs": [],
   "source": [
    "translated_text = df.description.unique()"
   ]
  },
  {
   "cell_type": "code",
   "execution_count": 52,
   "id": "1ccb9ede",
   "metadata": {},
   "outputs": [],
   "source": [
    "df2 = pd.read_csv('IN.csv')"
   ]
  },
  {
   "cell_type": "code",
   "execution_count": 53,
   "id": "cc5ef1cd",
   "metadata": {},
   "outputs": [
    {
     "data": {
      "text/html": [
       "<div>\n",
       "<style scoped>\n",
       "    .dataframe tbody tr th:only-of-type {\n",
       "        vertical-align: middle;\n",
       "    }\n",
       "\n",
       "    .dataframe tbody tr th {\n",
       "        vertical-align: top;\n",
       "    }\n",
       "\n",
       "    .dataframe thead th {\n",
       "        text-align: right;\n",
       "    }\n",
       "</style>\n",
       "<table border=\"1\" class=\"dataframe\">\n",
       "  <thead>\n",
       "    <tr style=\"text-align: right;\">\n",
       "      <th></th>\n",
       "      <th>key</th>\n",
       "      <th>place_name</th>\n",
       "      <th>admin_name1</th>\n",
       "      <th>latitude</th>\n",
       "      <th>longitude</th>\n",
       "      <th>accuracy</th>\n",
       "    </tr>\n",
       "  </thead>\n",
       "  <tbody>\n",
       "    <tr>\n",
       "      <th>0</th>\n",
       "      <td>IN/110001</td>\n",
       "      <td>Connaught Place</td>\n",
       "      <td>New Delhi</td>\n",
       "      <td>28.6333</td>\n",
       "      <td>77.2167</td>\n",
       "      <td>4.0</td>\n",
       "    </tr>\n",
       "    <tr>\n",
       "      <th>1</th>\n",
       "      <td>IN/110002</td>\n",
       "      <td>Darya Ganj</td>\n",
       "      <td>New Delhi</td>\n",
       "      <td>28.6333</td>\n",
       "      <td>77.2500</td>\n",
       "      <td>4.0</td>\n",
       "    </tr>\n",
       "    <tr>\n",
       "      <th>2</th>\n",
       "      <td>IN/110003</td>\n",
       "      <td>Aliganj</td>\n",
       "      <td>New Delhi</td>\n",
       "      <td>28.6500</td>\n",
       "      <td>77.2167</td>\n",
       "      <td>NaN</td>\n",
       "    </tr>\n",
       "    <tr>\n",
       "      <th>3</th>\n",
       "      <td>IN/110004</td>\n",
       "      <td>Rashtrapati Bhawan</td>\n",
       "      <td>New Delhi</td>\n",
       "      <td>28.6500</td>\n",
       "      <td>77.2167</td>\n",
       "      <td>NaN</td>\n",
       "    </tr>\n",
       "    <tr>\n",
       "      <th>4</th>\n",
       "      <td>IN/110005</td>\n",
       "      <td>Lower Camp Anand Parbat</td>\n",
       "      <td>New Delhi</td>\n",
       "      <td>28.6500</td>\n",
       "      <td>77.2000</td>\n",
       "      <td>NaN</td>\n",
       "    </tr>\n",
       "    <tr>\n",
       "      <th>...</th>\n",
       "      <td>...</td>\n",
       "      <td>...</td>\n",
       "      <td>...</td>\n",
       "      <td>...</td>\n",
       "      <td>...</td>\n",
       "      <td>...</td>\n",
       "    </tr>\n",
       "    <tr>\n",
       "      <th>11037</th>\n",
       "      <td>IN/855116</td>\n",
       "      <td>Thakurganj</td>\n",
       "      <td>Bihar</td>\n",
       "      <td>24.9833</td>\n",
       "      <td>81.0583</td>\n",
       "      <td>NaN</td>\n",
       "    </tr>\n",
       "    <tr>\n",
       "      <th>11038</th>\n",
       "      <td>IN/855117</td>\n",
       "      <td>Taiyabpur</td>\n",
       "      <td>Bihar</td>\n",
       "      <td>24.9833</td>\n",
       "      <td>81.0583</td>\n",
       "      <td>NaN</td>\n",
       "    </tr>\n",
       "    <tr>\n",
       "      <th>11039</th>\n",
       "      <td>IN/855119</td>\n",
       "      <td>Terhagachi</td>\n",
       "      <td>Bihar</td>\n",
       "      <td>24.9833</td>\n",
       "      <td>81.0583</td>\n",
       "      <td>NaN</td>\n",
       "    </tr>\n",
       "    <tr>\n",
       "      <th>11040</th>\n",
       "      <td>IN/855121</td>\n",
       "      <td>Balarampur</td>\n",
       "      <td>Bihar</td>\n",
       "      <td>24.9833</td>\n",
       "      <td>81.0583</td>\n",
       "      <td>NaN</td>\n",
       "    </tr>\n",
       "    <tr>\n",
       "      <th>11041</th>\n",
       "      <td>IN/855126</td>\n",
       "      <td>Tulsia</td>\n",
       "      <td>Bihar</td>\n",
       "      <td>24.9833</td>\n",
       "      <td>81.0583</td>\n",
       "      <td>NaN</td>\n",
       "    </tr>\n",
       "  </tbody>\n",
       "</table>\n",
       "<p>11042 rows × 6 columns</p>\n",
       "</div>"
      ],
      "text/plain": [
       "             key               place_name admin_name1  latitude  longitude  \\\n",
       "0      IN/110001          Connaught Place   New Delhi   28.6333    77.2167   \n",
       "1      IN/110002               Darya Ganj   New Delhi   28.6333    77.2500   \n",
       "2      IN/110003                  Aliganj   New Delhi   28.6500    77.2167   \n",
       "3      IN/110004       Rashtrapati Bhawan   New Delhi   28.6500    77.2167   \n",
       "4      IN/110005  Lower Camp Anand Parbat   New Delhi   28.6500    77.2000   \n",
       "...          ...                      ...         ...       ...        ...   \n",
       "11037  IN/855116               Thakurganj       Bihar   24.9833    81.0583   \n",
       "11038  IN/855117                Taiyabpur       Bihar   24.9833    81.0583   \n",
       "11039  IN/855119               Terhagachi       Bihar   24.9833    81.0583   \n",
       "11040  IN/855121               Balarampur       Bihar   24.9833    81.0583   \n",
       "11041  IN/855126                   Tulsia       Bihar   24.9833    81.0583   \n",
       "\n",
       "       accuracy  \n",
       "0           4.0  \n",
       "1           4.0  \n",
       "2           NaN  \n",
       "3           NaN  \n",
       "4           NaN  \n",
       "...         ...  \n",
       "11037       NaN  \n",
       "11038       NaN  \n",
       "11039       NaN  \n",
       "11040       NaN  \n",
       "11041       NaN  \n",
       "\n",
       "[11042 rows x 6 columns]"
      ]
     },
     "execution_count": 53,
     "metadata": {},
     "output_type": "execute_result"
    }
   ],
   "source": [
    "df2"
   ]
  },
  {
   "cell_type": "code",
   "execution_count": 54,
   "id": "2b3a0c4a",
   "metadata": {},
   "outputs": [
    {
     "data": {
      "text/plain": [
       "array(['New Delhi', 'Uttar Pradesh', 'Haryana', 'Punjab', 'Chandigarh',\n",
       "       'Himachal Pradesh', 'Jammu and Kashmir', 'Uttaranchal',\n",
       "       'Tamil Nadu', 'Rajasthan', 'Gujarat', 'Daman and Diu',\n",
       "       'Dadar and Nagar Haveli', 'Maharashtra', 'Goa', 'Orisa',\n",
       "       'Madhya Pradesh', 'Chattisgarh', 'Andhra Pradesh', 'Karnataka',\n",
       "       'Pondicherry', 'Kerala', 'Lakshadweep', 'West Bengal', 'Sikkim',\n",
       "       'Andaman and Nicobar', 'Assam', 'Arunachal Pradesh', 'Meghalaya',\n",
       "       'Manipur', 'Mizoram', 'Nagaland', 'Tripura', 'Bihar', 'Jharkhand'],\n",
       "      dtype=object)"
      ]
     },
     "execution_count": 54,
     "metadata": {},
     "output_type": "execute_result"
    }
   ],
   "source": [
    "df2.admin_name1.unique()"
   ]
  },
  {
   "cell_type": "code",
   "execution_count": 55,
   "id": "04072111",
   "metadata": {},
   "outputs": [
    {
     "data": {
      "text/plain": [
       "key             object\n",
       "place_name      object\n",
       "admin_name1     object\n",
       "latitude       float64\n",
       "longitude      float64\n",
       "accuracy       float64\n",
       "dtype: object"
      ]
     },
     "execution_count": 55,
     "metadata": {},
     "output_type": "execute_result"
    }
   ],
   "source": [
    "df2.dtypes"
   ]
  },
  {
   "cell_type": "code",
   "execution_count": 56,
   "id": "84890f26",
   "metadata": {},
   "outputs": [
    {
     "name": "stdout",
     "output_type": "stream",
     "text": [
      "found\n",
      "2352\n"
     ]
    }
   ],
   "source": [
    "x='IN/272131'\n",
    "count=0\n",
    "for i in range (len(df2.key)):\n",
    "    j = df2.key[i]\n",
    "    if x in j:\n",
    "        print('found')\n",
    "        print(i)\n",
    "        count+=1\n",
    "    \n",
    "    \n",
    "        \n",
    "        \n",
    "    "
   ]
  },
  {
   "cell_type": "code",
   "execution_count": 57,
   "id": "de58cd5a",
   "metadata": {},
   "outputs": [
    {
     "data": {
      "text/plain": [
       "key                      IN/272131\n",
       "place_name     Captainganj (Basti)\n",
       "admin_name1          Uttar Pradesh\n",
       "latitude                   26.8648\n",
       "longitude                  82.8622\n",
       "accuracy                       NaN\n",
       "Name: 2352, dtype: object"
      ]
     },
     "execution_count": 57,
     "metadata": {},
     "output_type": "execute_result"
    }
   ],
   "source": [
    "df2.loc[2352]"
   ]
  },
  {
   "cell_type": "code",
   "execution_count": 58,
   "id": "240e9eff",
   "metadata": {},
   "outputs": [
    {
     "name": "stderr",
     "output_type": "stream",
     "text": [
      "C:\\Users\\Aman\\AppData\\Local\\Temp/ipykernel_5756/75764735.py:3: SettingWithCopyWarning: \n",
      "A value is trying to be set on a copy of a slice from a DataFrame\n",
      "\n",
      "See the caveats in the documentation: https://pandas.pydata.org/pandas-docs/stable/user_guide/indexing.html#returning-a-view-versus-a-copy\n",
      "  df2.key[i] = j[3:]\n"
     ]
    }
   ],
   "source": [
    "for i in range(len(df2.key)):\n",
    "    j = df2.key[i]\n",
    "    df2.key[i] = j[3:]\n",
    "    "
   ]
  },
  {
   "cell_type": "code",
   "execution_count": 59,
   "id": "bec5cc48",
   "metadata": {},
   "outputs": [
    {
     "data": {
      "text/html": [
       "<div>\n",
       "<style scoped>\n",
       "    .dataframe tbody tr th:only-of-type {\n",
       "        vertical-align: middle;\n",
       "    }\n",
       "\n",
       "    .dataframe tbody tr th {\n",
       "        vertical-align: top;\n",
       "    }\n",
       "\n",
       "    .dataframe thead th {\n",
       "        text-align: right;\n",
       "    }\n",
       "</style>\n",
       "<table border=\"1\" class=\"dataframe\">\n",
       "  <thead>\n",
       "    <tr style=\"text-align: right;\">\n",
       "      <th></th>\n",
       "      <th>key</th>\n",
       "      <th>place_name</th>\n",
       "      <th>admin_name1</th>\n",
       "      <th>latitude</th>\n",
       "      <th>longitude</th>\n",
       "      <th>accuracy</th>\n",
       "    </tr>\n",
       "  </thead>\n",
       "  <tbody>\n",
       "    <tr>\n",
       "      <th>0</th>\n",
       "      <td>110001</td>\n",
       "      <td>Connaught Place</td>\n",
       "      <td>New Delhi</td>\n",
       "      <td>28.6333</td>\n",
       "      <td>77.2167</td>\n",
       "      <td>4.0</td>\n",
       "    </tr>\n",
       "    <tr>\n",
       "      <th>1</th>\n",
       "      <td>110002</td>\n",
       "      <td>Darya Ganj</td>\n",
       "      <td>New Delhi</td>\n",
       "      <td>28.6333</td>\n",
       "      <td>77.2500</td>\n",
       "      <td>4.0</td>\n",
       "    </tr>\n",
       "    <tr>\n",
       "      <th>2</th>\n",
       "      <td>110003</td>\n",
       "      <td>Aliganj</td>\n",
       "      <td>New Delhi</td>\n",
       "      <td>28.6500</td>\n",
       "      <td>77.2167</td>\n",
       "      <td>NaN</td>\n",
       "    </tr>\n",
       "    <tr>\n",
       "      <th>3</th>\n",
       "      <td>110004</td>\n",
       "      <td>Rashtrapati Bhawan</td>\n",
       "      <td>New Delhi</td>\n",
       "      <td>28.6500</td>\n",
       "      <td>77.2167</td>\n",
       "      <td>NaN</td>\n",
       "    </tr>\n",
       "    <tr>\n",
       "      <th>4</th>\n",
       "      <td>110005</td>\n",
       "      <td>Lower Camp Anand Parbat</td>\n",
       "      <td>New Delhi</td>\n",
       "      <td>28.6500</td>\n",
       "      <td>77.2000</td>\n",
       "      <td>NaN</td>\n",
       "    </tr>\n",
       "  </tbody>\n",
       "</table>\n",
       "</div>"
      ],
      "text/plain": [
       "      key               place_name admin_name1  latitude  longitude  accuracy\n",
       "0  110001          Connaught Place   New Delhi   28.6333    77.2167       4.0\n",
       "1  110002               Darya Ganj   New Delhi   28.6333    77.2500       4.0\n",
       "2  110003                  Aliganj   New Delhi   28.6500    77.2167       NaN\n",
       "3  110004       Rashtrapati Bhawan   New Delhi   28.6500    77.2167       NaN\n",
       "4  110005  Lower Camp Anand Parbat   New Delhi   28.6500    77.2000       NaN"
      ]
     },
     "execution_count": 59,
     "metadata": {},
     "output_type": "execute_result"
    }
   ],
   "source": [
    "df2.head()"
   ]
  },
  {
   "cell_type": "code",
   "execution_count": 68,
   "id": "ffb0165b",
   "metadata": {},
   "outputs": [],
   "source": [
    "## state finder from document\n",
    "state = df2.admin_name1.unique()\n",
    "for k in state:\n",
    "    temp = k\n",
    "    try:\n",
    "        x = temp.split()\n",
    "        x = x.lower()\n",
    "        print(yes)\n",
    "    except:\n",
    "        pass\n",
    "\n",
    "    for j in translated_text:\n",
    "        try:\n",
    "            if x[0]==j:\n",
    "                def1 = j\n",
    "\n",
    "            if x[1]==j:\n",
    "                def2 = def1+' '+j\n",
    "                result = def2\n",
    "            if temp == j:\n",
    "                result = temp\n",
    "        except:\n",
    "            pass  \n",
    "    \n",
    "        \n",
    "    "
   ]
  },
  {
   "cell_type": "code",
   "execution_count": 69,
   "id": "34e11abb",
   "metadata": {},
   "outputs": [],
   "source": [
    "## district finder with pincode\n",
    "for i in df2.key:\n",
    "    for j in translated_text:\n",
    "        try:\n",
    "            if i==j:\n",
    "                x=j\n",
    "        except:\n",
    "            pass\n",
    "    "
   ]
  },
  {
   "cell_type": "code",
   "execution_count": 70,
   "id": "a65c76d4",
   "metadata": {},
   "outputs": [],
   "source": [
    "row = df2[df2.key==x]"
   ]
  },
  {
   "cell_type": "code",
   "execution_count": 71,
   "id": "4ff236fa",
   "metadata": {},
   "outputs": [],
   "source": [
    "row.reset_index(drop=True,inplace=True)"
   ]
  },
  {
   "cell_type": "code",
   "execution_count": 72,
   "id": "7d22655c",
   "metadata": {},
   "outputs": [],
   "source": [
    "full_address = row.place_name+row.admin_name1+row.key"
   ]
  },
  {
   "cell_type": "code",
   "execution_count": 73,
   "id": "c90785e1",
   "metadata": {},
   "outputs": [
    {
     "data": {
      "text/plain": [
       "'Captainganj (Basti)Uttar Pradesh272131'"
      ]
     },
     "execution_count": 73,
     "metadata": {},
     "output_type": "execute_result"
    }
   ],
   "source": [
    "full_address.loc[0]"
   ]
  },
  {
   "cell_type": "code",
   "execution_count": 67,
   "id": "0d49a455",
   "metadata": {},
   "outputs": [
    {
     "data": {
      "text/plain": [
       "array(['भारतीय विशिष्ट पहचान प्राधिकरण\\nUnique Identification Authority of India\\nनामांकन क्रम/ Enrolment No.: 2906/01686/01467\\nTo\\nब्यूटी यादव\\nBeauty Yadav\\nD/O: Nand Lal Yadav\\nvillage bhikhariya\\npost harivanshapur buzurg\\nBhikhariya\\nHaribanshpur\\nBasti Uttar Pradesh - 272131\\n6386844853\\nSignaturo Not Verfiod\\nD ATON\\nAUTHORITY NOIA\\nDa 201.0 2014.0\\nआपका आधार क्रमांक / Your Aadhaar No. :\\n2550 0768 7190\\nVID : 9104 3439 3025 8239\\nमेरा आधार, मेरी पहचान\\nभारत सरकार\\nGovernment of India\\nआधार\\nब्यूटी यादव\\nBeauty Yadav\\nजन्म तिथि/DOB: 22/06/1999\\nमहिला/ FEMALE\\n2550 0768 7190\\nVID : 9104 3439 3025 8239\\nमेरा आधार, मेरी पहचान\\n1/11/2020\\nDownload Date: 20/06/2021\\nIssue Date: 11/11/2020\\nDownload Date: 20/06/2021\\n',\n",
       "       'भारतीय', 'विशिष्ट', 'पहचान', 'प्राधिकरण', 'Unique',\n",
       "       'Identification', 'Authority', 'of', 'India', 'नामांकन', 'क्रम/',\n",
       "       'Enrolment', 'No.:', '2906/01686/01467', 'To', 'ब्यूटी', 'यादव',\n",
       "       'Beauty', 'Yadav', 'D/O:', 'Nand', 'Lal', 'village', 'bhikhariya',\n",
       "       'post', 'harivanshapur', 'buzurg', 'Bhikhariya', 'Haribanshpur',\n",
       "       'Basti', 'Uttar', 'Pradesh', '-', '272131', '6386844853',\n",
       "       'Signaturo', 'Not', 'Verfiod', 'D', 'ATON', 'AUTHORITY', 'NOIA',\n",
       "       'Da', '201.0', '2014.0', 'आपका', 'आधार', 'क्रमांक', '/', 'Your',\n",
       "       'Aadhaar', 'No.', ':', '2550', '0768', '7190', 'VID', '9104',\n",
       "       '3439', '3025', '8239', 'मेरा', 'आधार,', 'मेरी', 'भारत', 'सरकार',\n",
       "       'Government', 'जन्म', 'तिथि/DOB:', '22/06/1999', 'महिला/',\n",
       "       'FEMALE', '1/11/2020', 'Download', 'Date:', '20/06/2021', 'Issue',\n",
       "       '11/11/2020'], dtype=object)"
      ]
     },
     "execution_count": 67,
     "metadata": {},
     "output_type": "execute_result"
    }
   ],
   "source": [
    "translated_text"
   ]
  },
  {
   "cell_type": "code",
   "execution_count": null,
   "id": "ab03c074",
   "metadata": {},
   "outputs": [],
   "source": []
  }
 ],
 "metadata": {
  "kernelspec": {
   "display_name": "Python 3 (ipykernel)",
   "language": "python",
   "name": "python3"
  },
  "language_info": {
   "codemirror_mode": {
    "name": "ipython",
    "version": 3
   },
   "file_extension": ".py",
   "mimetype": "text/x-python",
   "name": "python",
   "nbconvert_exporter": "python",
   "pygments_lexer": "ipython3",
   "version": "3.9.7"
  }
 },
 "nbformat": 4,
 "nbformat_minor": 5
}
